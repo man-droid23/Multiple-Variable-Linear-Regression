{
 "cells": [
  {
   "cell_type": "code",
   "execution_count": null,
   "metadata": {},
   "outputs": [],
   "source": [
    "import pandas as pd\n",
    "import numpy as np\n",
    "import matplotlib.pyplot as plt\n",
    "import pylab as pl\n",
    "%matplotlib inline\n",
    "import seaborn as sns\n",
    "from sklearn import linear_model\n",
    "from sklearn.metrics import r2_score\n",
    "from sklearn.metrics import mean_squared_error\n",
    "from sklearn.metrics import mean_absolute_error\n",
    "from sklearn.model_selection import train_test_split"
   ]
  },
  {
   "cell_type": "code",
   "execution_count": null,
   "metadata": {},
   "outputs": [],
   "source": [
    "df = pd.read_csv('players.csv')\n",
    "df"
   ]
  },
  {
   "cell_type": "code",
   "execution_count": null,
   "metadata": {},
   "outputs": [],
   "source": [
    "features = ['ACS','K/D','ADR','KPR','DPR','HS%','APR']\n",
    "df = df[features]"
   ]
  },
  {
   "cell_type": "code",
   "execution_count": null,
   "metadata": {},
   "outputs": [],
   "source": [
    "df.isnull().sum()"
   ]
  },
  {
   "cell_type": "code",
   "execution_count": null,
   "metadata": {},
   "outputs": [],
   "source": [
    "df.shape"
   ]
  },
  {
   "cell_type": "code",
   "execution_count": null,
   "metadata": {},
   "outputs": [],
   "source": [
    "df.info()"
   ]
  },
  {
   "cell_type": "code",
   "execution_count": null,
   "metadata": {},
   "outputs": [],
   "source": [
    "df.describe().T"
   ]
  },
  {
   "cell_type": "code",
   "execution_count": null,
   "metadata": {},
   "outputs": [],
   "source": [
    "# df.drop(['Unnamed: 0', 'Agent Name', 'Win Rate', 'Pick Rate', 'Num Matches', 'tier', 'map'], axis=1, inplace=True)\n",
    "df"
   ]
  },
  {
   "cell_type": "code",
   "execution_count": null,
   "metadata": {},
   "outputs": [],
   "source": [
    "df['HS%'] = df['HS%'].str.rstrip('%').astype('float') / 100.0\n",
    "df"
   ]
  },
  {
   "cell_type": "code",
   "execution_count": null,
   "metadata": {},
   "outputs": [],
   "source": [
    "df.rename(columns={'ACS': 'Average Combat Score', 'K/D': 'Kill/Death Ratio', 'ADR': 'Average Damage per Round', 'KPR': 'Kill per Round', 'DPR': 'Death per Round', 'HS%': 'Headshot Percentage', 'APR': 'Assist per Round'}, inplace=True)"
   ]
  },
  {
   "cell_type": "code",
   "execution_count": null,
   "metadata": {},
   "outputs": [],
   "source": [
    "df"
   ]
  },
  {
   "cell_type": "code",
   "execution_count": null,
   "metadata": {},
   "outputs": [],
   "source": [
    "df.hist()\n",
    "plt.show()"
   ]
  },
  {
   "cell_type": "code",
   "execution_count": null,
   "metadata": {},
   "outputs": [],
   "source": [
    "fig, ax = plt.subplots(3,3, figsize=(12,12))\n",
    "sns.set_style('whitegrid')\n",
    "sns.set_palette('autumn')\n",
    "sns.histplot(data=df, ax=ax[0,0], x='Average Combat Score')\n",
    "sns.histplot(data=df, ax=ax[0,1], x='Kill/Death Ratio')\n",
    "sns.histplot(data=df, ax=ax[0,2], x='Average Damage per Round')\n",
    "sns.histplot(data=df, ax=ax[1,0], x='Kill per Round')\n",
    "sns.histplot(data=df, ax=ax[1,1], x='Death per Round')\n",
    "sns.histplot(data=df, ax=ax[1,2], x='Headshot Percentage')\n",
    "sns.histplot(data=df, ax=ax[2,0], x='Assist per Round')\n",
    "\n"
   ]
  },
  {
   "cell_type": "code",
   "execution_count": null,
   "metadata": {},
   "outputs": [],
   "source": [
    "corr = df.corr()\n",
    "plt.figure(figsize=(10,10))\n",
    "sns.heatmap(corr, annot=True, cmap='Blues')"
   ]
  },
  {
   "cell_type": "code",
   "execution_count": null,
   "metadata": {},
   "outputs": [],
   "source": [
    "sns.scatterplot(data=df, x='Kill/Death Ratio', y='Average Combat Score')"
   ]
  },
  {
   "cell_type": "code",
   "execution_count": null,
   "metadata": {},
   "outputs": [],
   "source": [
    "fig, ax = plt.subplots(2,3, figsize=(12,12))\n",
    "sns.set_style('whitegrid')\n",
    "sns.set_palette('autumn')\n",
    "sns.scatterplot(data=df, ax=ax[0,0], y='Average Combat Score', x='Kill/Death Ratio')\n",
    "sns.scatterplot(data=df, ax=ax[0,1], y='Average Combat Score', x='Average Damage per Round')\n",
    "sns.scatterplot(data=df, ax=ax[0,2], y='Average Combat Score', x='Kill per Round')\n",
    "sns.scatterplot(data=df, ax=ax[1,0], y='Average Combat Score', x='Death per Round')\n",
    "sns.scatterplot(data=df, ax=ax[1,1], y='Average Combat Score', x='Headshot Percentage')\n",
    "sns.scatterplot(data=df, ax=ax[1,2], y='Average Combat Score', x='Assist per Round')"
   ]
  },
  {
   "cell_type": "code",
   "execution_count": null,
   "metadata": {},
   "outputs": [],
   "source": [
    "x = df.drop('Average Combat Score', axis=1)\n",
    "y = df['Average Combat Score']\n",
    "\n",
    "x_train, x_test, y_train, y_test = train_test_split(x, y, test_size=0.2, random_state=0)\n",
    "\n",
    "x_train.shape, x_test.shape, y_train.shape, y_test.shape"
   ]
  },
  {
   "cell_type": "code",
   "execution_count": null,
   "metadata": {},
   "outputs": [],
   "source": [
    "lm = linear_model.LinearRegression()\n",
    "model = lm.fit(x_train, y_train)\n",
    "y_pred = lm.predict(x_test)\n",
    "\n",
    "print('R2 Score: ', r2_score(y_test, y_pred))\n",
    "print('Coefficient: ', lm.coef_)\n",
    "print('Intercept: ', lm.intercept_)\n",
    "print('Mean Squared Error: ', mean_squared_error(y_test, y_pred))\n",
    "print('Mean Absolute Error: ', mean_absolute_error(y_test, y_pred))\n",
    "print('Accuracy: {0:.0%}'.format( lm.score(x_test, y_test)) )"
   ]
  },
  {
   "cell_type": "code",
   "execution_count": null,
   "metadata": {},
   "outputs": [],
   "source": [
    "plt.scatter(y_test, y_pred, color='blue')\n",
    "plt.plot(y_test, y_test, color='red')\n",
    "plt.xlabel('Actual')\n",
    "plt.ylabel('Predicted')\n",
    "plt.title('Actual vs Predicted')\n",
    "plt.show()"
   ]
  },
  {
   "cell_type": "code",
   "execution_count": null,
   "metadata": {},
   "outputs": [],
   "source": [
    "# Predict the ACS of a player with the following stats:\n",
    "Kd = float(input('Enter the K/D: '))\n",
    "Adr = float(input('Enter the Average Damage per Round: '))\n",
    "Kpr = float(input('Enter the Kill per Round: '))\n",
    "Dpr = float(input('Enter the Death per Round: '))\n",
    "Hs = float(input('Enter the Headshot Percentage: '))\n",
    "Apr = float(input('Enter the Assist per Round: '))\n",
    "\n",
    "print('Predicted Value : %2.2f' % lm.predict([[Kd, Adr, Kpr, Dpr, Hs, Apr]]))\n"
   ]
  }
 ],
 "metadata": {
  "kernelspec": {
   "display_name": "Python 3.11.0 ('probstat-linear-regression-sHmJ1F59-py3.11')",
   "language": "python",
   "name": "python3"
  },
  "language_info": {
   "codemirror_mode": {
    "name": "ipython",
    "version": 3
   },
   "file_extension": ".py",
   "mimetype": "text/x-python",
   "name": "python",
   "nbconvert_exporter": "python",
   "pygments_lexer": "ipython3",
   "version": "3.11.0"
  },
  "orig_nbformat": 4,
  "vscode": {
   "interpreter": {
    "hash": "a5c9e4749a2574afda8533aadb2555001452e86b8b0049e95f973a63c83b0b7d"
   }
  }
 },
 "nbformat": 4,
 "nbformat_minor": 2
}
